{
  "nbformat": 4,
  "nbformat_minor": 0,
  "metadata": {
    "colab": {
      "name": "análisis 2 ",
      "provenance": [],
      "authorship_tag": "ABX9TyMJKMOQ9M842/PhZczS8qei",
      "include_colab_link": true
    },
    "kernelspec": {
      "name": "python3",
      "display_name": "Python 3"
    },
    "language_info": {
      "name": "python"
    }
  },
  "cells": [
    {
      "cell_type": "markdown",
      "metadata": {
        "id": "view-in-github",
        "colab_type": "text"
      },
      "source": [
        "<a href=\"https://colab.research.google.com/github/WhiteVillage/clase-3/blob/main/an%C3%A1lisis_2.ipynb\" target=\"_parent\"><img src=\"https://colab.research.google.com/assets/colab-badge.svg\" alt=\"Open In Colab\"/></a>"
      ]
    },
    {
      "cell_type": "code",
      "execution_count": 34,
      "metadata": {
        "id": "EYGlazQii6q4"
      },
      "outputs": [],
      "source": [
        "from numpy import random\n",
        "import numpy as np\n",
        " \n",
        "from scipy.stats import uniform\n",
        "import seaborn as sns\n",
        "\n",
        "\n"
      ]
    },
    {
      "cell_type": "code",
      "source": [
        "def hola():\n",
        "  return 3 + np.random.rand()\n",
        "def lala():\n",
        "  return  np.random.normal(50,2)\n",
        "\n",
        "sample = [[hola(),lala()] for i in range(5)]\n",
        "print(sample) \n",
        "\n",
        "print(np.log(1))"
      ],
      "metadata": {
        "colab": {
          "base_uri": "https://localhost:8080/"
        },
        "id": "mS8MfCD12pko",
        "outputId": "91aeabdb-6294-4dbd-8526-d73aa25fcd83"
      },
      "execution_count": 35,
      "outputs": [
        {
          "output_type": "stream",
          "name": "stdout",
          "text": [
            "[[3.4694676577238446, 50.83287632454189], [3.4058864419439168, 52.97126847862795], [3.7219754740754367, 52.09871989008483], [3.0749959604836863, 54.66057449620953], [3.6829090608888397, 49.88665416140459]]\n",
            "0.0\n"
          ]
        }
      ]
    },
    {
      "cell_type": "code",
      "source": [
        "n = 1000\n",
        "start = 10\n",
        "width = 20\n",
        "data = uniform.rvs(size = n, loc = start, scale = width)"
      ],
      "metadata": {
        "id": "pRpq01Cq23KC"
      },
      "execution_count": 36,
      "outputs": []
    },
    {
      "cell_type": "code",
      "source": [
        "data[0:10]"
      ],
      "metadata": {
        "colab": {
          "base_uri": "https://localhost:8080/"
        },
        "id": "xaj_l8VW3RQK",
        "outputId": "9515b6db-cdbf-41fd-faa0-041e0c6212ef"
      },
      "execution_count": 37,
      "outputs": [
        {
          "output_type": "execute_result",
          "data": {
            "text/plain": [
              "array([17.54034438, 28.48088417, 17.77923069, 24.76653241, 14.9200133 ,\n",
              "       26.69853132, 16.38186108, 25.54116173, 23.53162161, 29.97745743])"
            ]
          },
          "metadata": {},
          "execution_count": 37
        }
      ]
    },
    {
      "cell_type": "code",
      "source": [
        "sns.distplot( [np.random.chisquare(1000) for _ in range(1000000)] ,\n",
        "             bins = 400,\n",
        "             color = 'blue')\n",
        "\n",
        "sns.distplot( [np.random.normal(1000,44.4) for _ in range(1000000)] ,\n",
        "             bins = 400,\n",
        "             color = 'RED')"
      ],
      "metadata": {
        "colab": {
          "base_uri": "https://localhost:8080/",
          "height": 370
        },
        "id": "-10vIqxy3uPU",
        "outputId": "6d9c22f0-8182-4e9a-f1ef-0c60f0f181bc"
      },
      "execution_count": 38,
      "outputs": [
        {
          "output_type": "stream",
          "name": "stderr",
          "text": [
            "/usr/local/lib/python3.7/dist-packages/seaborn/distributions.py:2619: FutureWarning: `distplot` is a deprecated function and will be removed in a future version. Please adapt your code to use either `displot` (a figure-level function with similar flexibility) or `histplot` (an axes-level function for histograms).\n",
            "  warnings.warn(msg, FutureWarning)\n",
            "/usr/local/lib/python3.7/dist-packages/seaborn/distributions.py:2619: FutureWarning: `distplot` is a deprecated function and will be removed in a future version. Please adapt your code to use either `displot` (a figure-level function with similar flexibility) or `histplot` (an axes-level function for histograms).\n",
            "  warnings.warn(msg, FutureWarning)\n"
          ]
        },
        {
          "output_type": "execute_result",
          "data": {
            "text/plain": [
              "<matplotlib.axes._subplots.AxesSubplot at 0x7f0dc0d5d650>"
            ]
          },
          "metadata": {},
          "execution_count": 38
        },
        {
          "output_type": "display_data",
          "data": {
            "text/plain": [
              "<Figure size 432x288 with 1 Axes>"
            ],
            "image/png": "[encoded data removed]"
          },
          "metadata": {
            "needs_background": "light"
          }
        }
      ]
    },
    {
      "cell_type": "code",
      "source": [
        ""
      ],
      "metadata": {
        "id": "qImGuHbL8MSp"
      },
      "execution_count": 38,
      "outputs": []
    },
    {
      "cell_type": "code",
      "source": [
        "sns.distplot( [np.random.chisquare(5) for _ in range(100000)] ,\n",
        "             bins = 400,\n",
        "             color = 'Orange')\n",
        "sns.distplot( [np.random.chisquare(2) for _ in range(100000)] ,\n",
        "             bins = 400,\n",
        "             color = 'Green')\n",
        "sns.distplot( [np.random.chisquare(3) for _ in range(100000)] ,\n",
        "             bins = 400,\n",
        "             color = 'Purple')\n",
        "sns.distplot( [np.random.chisquare(4) for _ in range(100000)] ,\n",
        "             bins = 400 ,\n",
        "              color = \"Cyan\")\n",
        "'''sns.distplot( [np.random.chisquare(1) for _ in range(10000)] ,\n",
        "            bins = 100 ,\n",
        "             color = \"RED\")'''"
      ],
      "metadata": {
        "colab": {
          "base_uri": "https://localhost:8080/",
          "height": 441
        },
        "id": "J9tVYCYSvsYG",
        "outputId": "724c029e-222c-4a3a-d160-5e4d0b10fe73"
      },
      "execution_count": 39,
      "outputs": [
        {
          "output_type": "stream",
          "name": "stderr",
          "text": [
            "/usr/local/lib/python3.7/dist-packages/seaborn/distributions.py:2619: FutureWarning: `distplot` is a deprecated function and will be removed in a future version. Please adapt your code to use either `displot` (a figure-level function with similar flexibility) or `histplot` (an axes-level function for histograms).\n",
            "  warnings.warn(msg, FutureWarning)\n",
            "/usr/local/lib/python3.7/dist-packages/seaborn/distributions.py:2619: FutureWarning: `distplot` is a deprecated function and will be removed in a future version. Please adapt your code to use either `displot` (a figure-level function with similar flexibility) or `histplot` (an axes-level function for histograms).\n",
            "  warnings.warn(msg, FutureWarning)\n",
            "/usr/local/lib/python3.7/dist-packages/seaborn/distributions.py:2619: FutureWarning: `distplot` is a deprecated function and will be removed in a future version. Please adapt your code to use either `displot` (a figure-level function with similar flexibility) or `histplot` (an axes-level function for histograms).\n",
            "  warnings.warn(msg, FutureWarning)\n",
            "/usr/local/lib/python3.7/dist-packages/seaborn/distributions.py:2619: FutureWarning: `distplot` is a deprecated function and will be removed in a future version. Please adapt your code to use either `displot` (a figure-level function with similar flexibility) or `histplot` (an axes-level function for histograms).\n",
            "  warnings.warn(msg, FutureWarning)\n"
          ]
        },
        {
          "output_type": "execute_result",
          "data": {
            "text/plain": [
              "'sns.distplot( [np.random.chisquare(1) for _ in range(10000)] ,\\n            bins = 100 ,\\n             color = \"RED\")'"
            ],
            "application/vnd.google.colaboratory.intrinsic+json": {
              "type": "string"
            }
          },
          "metadata": {},
          "execution_count": 39
        },
        {
          "output_type": "display_data",
          "data": {
            "text/plain": [
              "<Figure size 432x288 with 1 Axes>"
            ],
            "image/png": "[encoded data removed]"
          },
          "metadata": {
            "needs_background": "light"
          }
        }
      ]
    },
    {
      "cell_type": "code",
      "source": [
        ""
      ],
      "metadata": {
        "id": "wkvPtjUR2qUh"
      },
      "execution_count": 39,
      "outputs": []
    },
    {
      "cell_type": "code",
      "source": [
        "\n",
        "\n",
        "\n",
        "lista =[]\n",
        "\n",
        "for i in range (10000):\n",
        "  a = np.random.chisquare(6)\n",
        "  lista.append(a)\n",
        "\n",
        "acumulada6= []\n",
        "\n",
        "\n",
        "for l in range(200):\n",
        "  a = 0\n",
        "  for i in lista:\n",
        "    if i<(l/10):\n",
        "      a = a+1\n",
        "  acumulada6.append(a/10000)\n",
        "\n",
        "lista =[]\n",
        "for i in range (10000):\n",
        "  a = np.random.chisquare(7)\n",
        "  lista.append(a)\n",
        "\n",
        "acumulada7= []\n",
        "\n",
        "\n",
        "for l in range(200):\n",
        "  a = 0\n",
        "  for i in lista:\n",
        "    if i<(l/10):\n",
        "      a = a+1\n",
        "  acumulada7.append(a/10000)\n",
        "\n",
        "lista =[]\n",
        "for i in range (10000):\n",
        "  a = np.random.chisquare(5)\n",
        "  lista.append(a)\n",
        "\n",
        "acumulada5= []\n",
        "\n",
        "\n",
        "for l in range(200):\n",
        "  a = 0\n",
        "  for i in lista:\n",
        "    if i<(l/10):\n",
        "      a = a+1\n",
        "  acumulada5.append(a/10000)\n",
        "\n",
        "lista =[]\n",
        "for i in range (10000):\n",
        "  a = np.random.chisquare(2)\n",
        "  lista.append(a)\n",
        "\n",
        "acumulada2 = []\n",
        "ejeY = []\n",
        "\n",
        "for l in range(200):\n",
        "  a = 0\n",
        "  ejeY.append(l/10)\n",
        "  for i in lista:\n",
        "    if i<(l/10):\n",
        "      a = a+1\n",
        "  acumulada2.append(a/10000)\n",
        "\n",
        "\n",
        "lista =[]\n",
        "for i in range (10000):\n",
        "  a = np.random.chisquare(3)\n",
        "  lista.append(a)\n",
        "\n",
        "acumulada3= []\n",
        "\n",
        "\n",
        "for l in range(200):\n",
        "  a = 0\n",
        "  for i in lista:\n",
        "    if i<(l/10):\n",
        "      a = a+1\n",
        "  acumulada3.append(a/10000)\n",
        "\n",
        "lista =[]\n",
        "for i in range (10000):\n",
        "  a = np.random.chisquare(4)\n",
        "  lista.append(a)\n",
        "\n",
        "acumulada4= []\n",
        "\n",
        "\n",
        "for l in range(200):\n",
        "  a = 0\n",
        "  for i in lista:\n",
        "    if i<(l/10):\n",
        "      a = a+1\n",
        "  acumulada4.append(a/10000)  \n"
      ],
      "metadata": {
        "id": "xgo9HIlC0y2r"
      },
      "execution_count": 40,
      "outputs": []
    },
    {
      "cell_type": "code",
      "source": [
        "# importar todas las funciones de pylab\n",
        "from pylab import *\n",
        "\n",
        "# importar el módulo pyplot\n",
        "import matplotlib.pyplot as plt"
      ],
      "metadata": {
        "id": "59qp_fxL6WWS"
      },
      "execution_count": 41,
      "outputs": []
    },
    {
      "cell_type": "code",
      "source": [
        "plot(ejeY,acumulada2, color =\"Blue\")                  \n",
        "plot(ejeY,acumulada3, color =\"RED\")  \n",
        "plot(ejeY,acumulada4, color =\"Green\")                  \n",
        "plot(ejeY,acumulada5, color =\"orange\")     \n",
        "plot(ejeY,acumulada6, color =\"purple\")   \n",
        "plot(ejeY,acumulada7, color =\"black\")                               "
      ],
      "metadata": {
        "colab": {
          "base_uri": "https://localhost:8080/",
          "height": 282
        },
        "id": "Qnr0wJuc5_hf",
        "outputId": "a3f0b240-5fb5-46ad-f3bc-b42ea072b223"
      },
      "execution_count": 42,
      "outputs": [
        {
          "output_type": "execute_result",
          "data": {
            "text/plain": [
              "[<matplotlib.lines.Line2D at 0x7f0dc146d210>]"
            ]
          },
          "metadata": {},
          "execution_count": 42
        },
        {
          "output_type": "display_data",
          "data": {
            "text/plain": [
              "<Figure size 432x288 with 1 Axes>"
            ],
            "image/png": "[encoded data removed]"
          },
          "metadata": {
            "needs_background": "light"
          }
        }
      ]
    },
    {
      "cell_type": "code",
      "source": [
        ""
      ],
      "metadata": {
        "id": "jgtIrQ0wAZAQ"
      },
      "execution_count": null,
      "outputs": []
    }
  ]
}